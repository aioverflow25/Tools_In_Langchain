{
 "cells": [
  {
   "cell_type": "code",
   "execution_count": 1,
   "id": "a825af87",
   "metadata": {},
   "outputs": [],
   "source": [
    "from langchain.tools import tool"
   ]
  },
  {
   "cell_type": "code",
   "execution_count": 2,
   "id": "10920d5e",
   "metadata": {},
   "outputs": [],
   "source": [
    "@tool\n",
    "def add(a:int,b:int)->int:\n",
    "    '''Addition of 2 Numbers'''\n",
    "    return a+b\n",
    "@tool\n",
    "def multiply(a:int,b:int)->int:\n",
    "    '''Multiplication Of 2 Numbers'''\n",
    "    return a*b"
   ]
  },
  {
   "cell_type": "code",
   "execution_count": 3,
   "id": "224aee56",
   "metadata": {},
   "outputs": [],
   "source": [
    "class MathToolKit:\n",
    "    def get_tools(self):\n",
    "        return [add,multiply]"
   ]
  },
  {
   "cell_type": "code",
   "execution_count": 4,
   "id": "2d4cef60",
   "metadata": {},
   "outputs": [],
   "source": [
    "toolkit = MathToolKit()\n",
    "tools = toolkit.get_tools()"
   ]
  },
  {
   "cell_type": "code",
   "execution_count": 5,
   "id": "e31f7d5d",
   "metadata": {},
   "outputs": [
    {
     "name": "stdout",
     "output_type": "stream",
     "text": [
      "5\n"
     ]
    }
   ],
   "source": [
    "print(tools[0].invoke({'a':2,'b':3}))"
   ]
  },
  {
   "cell_type": "code",
   "execution_count": null,
   "id": "447e477e",
   "metadata": {},
   "outputs": [],
   "source": []
  }
 ],
 "metadata": {
  "kernelspec": {
   "display_name": "base",
   "language": "python",
   "name": "python3"
  },
  "language_info": {
   "codemirror_mode": {
    "name": "ipython",
    "version": 3
   },
   "file_extension": ".py",
   "mimetype": "text/x-python",
   "name": "python",
   "nbconvert_exporter": "python",
   "pygments_lexer": "ipython3",
   "version": "3.12.7"
  }
 },
 "nbformat": 4,
 "nbformat_minor": 5
}
