{
 "cells": [
  {
   "cell_type": "markdown",
   "id": "be5e9378",
   "metadata": {},
   "source": [
    "# Duck Duck Go Search Tool"
   ]
  },
  {
   "cell_type": "code",
   "execution_count": 2,
   "id": "f074f332",
   "metadata": {},
   "outputs": [
    {
     "name": "stdout",
     "output_type": "stream",
     "text": [
      "Collecting duckduckgo_search\n",
      "  Downloading duckduckgo_search-8.0.2-py3-none-any.whl.metadata (16 kB)\n",
      "Collecting click>=8.1.8 (from duckduckgo_search)\n",
      "  Downloading click-8.2.1-py3-none-any.whl.metadata (2.5 kB)\n",
      "Collecting primp>=0.15.0 (from duckduckgo_search)\n",
      "  Downloading primp-0.15.0-cp38-abi3-win_amd64.whl.metadata (13 kB)\n",
      "Collecting lxml>=5.3.0 (from duckduckgo_search)\n",
      "  Downloading lxml-5.4.0-cp312-cp312-win_amd64.whl.metadata (3.6 kB)\n",
      "Requirement already satisfied: colorama in c:\\users\\amans\\anaconda3\\lib\\site-packages (from click>=8.1.8->duckduckgo_search) (0.4.6)\n",
      "Downloading duckduckgo_search-8.0.2-py3-none-any.whl (18 kB)\n",
      "Downloading click-8.2.1-py3-none-any.whl (102 kB)\n",
      "Downloading lxml-5.4.0-cp312-cp312-win_amd64.whl (3.8 MB)\n",
      "   ---------------------------------------- 0.0/3.8 MB ? eta -:--:--\n",
      "   ---------------------------------------- 0.0/3.8 MB ? eta -:--:--\n",
      "   -- ------------------------------------- 0.3/3.8 MB ? eta -:--:--\n",
      "   -- ------------------------------------- 0.3/3.8 MB ? eta -:--:--\n",
      "   ----- ---------------------------------- 0.5/3.8 MB 699.0 kB/s eta 0:00:05\n",
      "   -------- ------------------------------- 0.8/3.8 MB 799.2 kB/s eta 0:00:04\n",
      "   -------- ------------------------------- 0.8/3.8 MB 799.2 kB/s eta 0:00:04\n",
      "   ---------- ----------------------------- 1.0/3.8 MB 812.4 kB/s eta 0:00:04\n",
      "   ------------- -------------------------- 1.3/3.8 MB 828.9 kB/s eta 0:00:04\n",
      "   ---------------- ----------------------- 1.6/3.8 MB 873.8 kB/s eta 0:00:03\n",
      "   ------------------- -------------------- 1.8/3.8 MB 907.1 kB/s eta 0:00:03\n",
      "   --------------------- ------------------ 2.1/3.8 MB 932.4 kB/s eta 0:00:02\n",
      "   ------------------------ --------------- 2.4/3.8 MB 972.7 kB/s eta 0:00:02\n",
      "   --------------------------- ------------ 2.6/3.8 MB 993.4 kB/s eta 0:00:02\n",
      "   ------------------------------ --------- 2.9/3.8 MB 1.0 MB/s eta 0:00:01\n",
      "   -------------------------------- ------- 3.1/3.8 MB 1.0 MB/s eta 0:00:01\n",
      "   ----------------------------------- ---- 3.4/3.8 MB 1.1 MB/s eta 0:00:01\n",
      "   -------------------------------------- - 3.7/3.8 MB 1.1 MB/s eta 0:00:01\n",
      "   ---------------------------------------- 3.8/3.8 MB 1.1 MB/s eta 0:00:00\n",
      "Downloading primp-0.15.0-cp38-abi3-win_amd64.whl (3.1 MB)\n",
      "   ---------------------------------------- 0.0/3.1 MB ? eta -:--:--\n",
      "   --- ------------------------------------ 0.3/3.1 MB ? eta -:--:--\n",
      "   ------ --------------------------------- 0.5/3.1 MB 1.4 MB/s eta 0:00:02\n",
      "   ------------- -------------------------- 1.0/3.1 MB 1.5 MB/s eta 0:00:02\n",
      "   ---------------- ----------------------- 1.3/3.1 MB 1.6 MB/s eta 0:00:02\n",
      "   ----------------------- ---------------- 1.8/3.1 MB 1.7 MB/s eta 0:00:01\n",
      "   -------------------------- ------------- 2.1/3.1 MB 1.7 MB/s eta 0:00:01\n",
      "   --------------------------------- ------ 2.6/3.1 MB 1.8 MB/s eta 0:00:01\n",
      "   ---------------------------------------- 3.1/3.1 MB 1.8 MB/s eta 0:00:00\n",
      "Installing collected packages: primp, lxml, click, duckduckgo_search\n",
      "  Attempting uninstall: lxml\n",
      "    Found existing installation: lxml 5.2.1\n",
      "    Uninstalling lxml-5.2.1:\n",
      "      Successfully uninstalled lxml-5.2.1\n",
      "  Attempting uninstall: click\n",
      "    Found existing installation: click 8.1.7\n",
      "    Uninstalling click-8.1.7:\n",
      "      Successfully uninstalled click-8.1.7\n",
      "Successfully installed click-8.2.1 duckduckgo_search-8.0.2 lxml-5.4.0 primp-0.15.0\n",
      "Note: you may need to restart the kernel to use updated packages.\n"
     ]
    }
   ],
   "source": [
    "pip install duckduckgo_search"
   ]
  },
  {
   "cell_type": "code",
   "execution_count": 3,
   "id": "8c4a3553",
   "metadata": {},
   "outputs": [
    {
     "name": "stdout",
     "output_type": "stream",
     "text": [
      "Cricket News: Mumbai Indians secured their playoff spot in IPL 2025 with a dominant victory over Delhi Capitals, setting the stage for a thrilling finish. To clinch MI vs DC, IPL 2025 Highlights: Mitchell Santner (3/11) and Jasprit Bumrah (3/12) grab three wickets each as Mumbai Indians bowl Delhi Capitals out for 121 to collect a 59-run victory in their final game of the season at the Wankhede Stadium.In the process, the Hardik Pandya-led side become the fourth and final team to qualify for the playoffs. Earlier in the evening, Suryakumar Yadav smashed ... The BCCI has begun taking steps towards resuming IPL 2025 in May following the announcement of a ceasefire between India and Pakistan that came into effect at 1130 GMT (1700 IST and 1630 PKT) on ... IPL Live Score: Get live scores, news, schedules, highlights, commentary, points table, videos, stats and more updates for Indian Premier League 2025 only on CricTracker. The IPL still has 12 games to be played in the group stage before the knockout rounds features four play-off matches. An IPL statement read: \"The remainder of ongoing IPL 2025 suspended with ...\n"
     ]
    }
   ],
   "source": [
    "from langchain_community.tools import DuckDuckGoSearchRun\n",
    "search_tool = DuckDuckGoSearchRun()\n",
    "results = search_tool.invoke(\"Ipl-News\")\n",
    "print(results)"
   ]
  },
  {
   "cell_type": "markdown",
   "id": "be7b1ec2",
   "metadata": {},
   "source": [
    "# Shell Tool"
   ]
  },
  {
   "cell_type": "code",
   "execution_count": 6,
   "id": "6800da1b",
   "metadata": {},
   "outputs": [
    {
     "name": "stdout",
     "output_type": "stream",
     "text": [
      "Executing command:\n",
      " whoami\n",
      "laptop-2lk2ub0k\\amans\n",
      "\n"
     ]
    },
    {
     "name": "stderr",
     "output_type": "stream",
     "text": [
      "c:\\Users\\amans\\anaconda3\\Lib\\site-packages\\langchain_community\\tools\\shell\\tool.py:33: UserWarning: The shell tool has no safeguards by default. Use at your own risk.\n",
      "  warnings.warn(\n"
     ]
    }
   ],
   "source": [
    "from langchain_community.tools import ShellTool\n",
    "shell_tool = ShellTool()\n",
    "results = shell_tool.invoke(\"whoami\")\n",
    "print(results)"
   ]
  }
 ],
 "metadata": {
  "kernelspec": {
   "display_name": "base",
   "language": "python",
   "name": "python3"
  },
  "language_info": {
   "codemirror_mode": {
    "name": "ipython",
    "version": 3
   },
   "file_extension": ".py",
   "mimetype": "text/x-python",
   "name": "python",
   "nbconvert_exporter": "python",
   "pygments_lexer": "ipython3",
   "version": "3.12.7"
  }
 },
 "nbformat": 4,
 "nbformat_minor": 5
}
