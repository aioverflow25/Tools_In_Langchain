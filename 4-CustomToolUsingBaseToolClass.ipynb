{
 "cells": [
  {
   "cell_type": "code",
   "execution_count": 9,
   "id": "a2d518e0",
   "metadata": {},
   "outputs": [],
   "source": [
    "from langchain.tools import BaseTool\n",
    "from typing import Type,Optional\n",
    "from pydantic import BaseModel,Field"
   ]
  },
  {
   "cell_type": "code",
   "execution_count": 10,
   "id": "940466a6",
   "metadata": {},
   "outputs": [],
   "source": [
    "class multiplyOrSquareSchema(BaseModel):\n",
    "    a:int=Field(required=True,description='First number for multiply or its square if only this is given')\n",
    "    b:Optional[int]=Field(description='second number for multiplication')"
   ]
  },
  {
   "cell_type": "code",
   "execution_count": 11,
   "id": "72c3f8cd",
   "metadata": {},
   "outputs": [],
   "source": [
    "class MultiplyOrSquareTool(BaseTool):\n",
    "    name:str='Multiply_Or_Square'\n",
    "    description:str='Either multiply two number or square first number'\n",
    "    args_schema:Type[BaseModel]=multiplyOrSquareSchema\n",
    "    def _run(self, a: int, b: Optional[int] = None) -> int:\n",
    "        if b is not None:\n",
    "            return a * b\n",
    "        return a * a"
   ]
  },
  {
   "cell_type": "code",
   "execution_count": 12,
   "id": "fd05767f",
   "metadata": {},
   "outputs": [],
   "source": [
    "tool = MultiplyOrSquareTool()"
   ]
  },
  {
   "cell_type": "code",
   "execution_count": 25,
   "id": "f8a68283",
   "metadata": {},
   "outputs": [
    {
     "name": "stdout",
     "output_type": "stream",
     "text": [
      "20\n",
      "25\n",
      "Multiply_Or_Square\n",
      "Either multiply two number or square first number\n",
      "<class '__main__.multiplyOrSquareSchema'>\n"
     ]
    }
   ],
   "source": [
    "# Run with both a and b\n",
    "result1 = tool._run(**{'a': 4, 'b': 5})\n",
    "# Run with only a\n",
    "result2 = tool._run(**{'a': 5})\n",
    "print(result1)\n",
    "print(result2)\n",
    "print(tool.name)\n",
    "print(tool.description)\n",
    "print(tool.args_schema)"
   ]
  },
  {
   "cell_type": "code",
   "execution_count": null,
   "id": "0696c5f6",
   "metadata": {},
   "outputs": [],
   "source": []
  }
 ],
 "metadata": {
  "kernelspec": {
   "display_name": "base",
   "language": "python",
   "name": "python3"
  },
  "language_info": {
   "codemirror_mode": {
    "name": "ipython",
    "version": 3
   },
   "file_extension": ".py",
   "mimetype": "text/x-python",
   "name": "python",
   "nbconvert_exporter": "python",
   "pygments_lexer": "ipython3",
   "version": "3.12.7"
  }
 },
 "nbformat": 4,
 "nbformat_minor": 5
}
