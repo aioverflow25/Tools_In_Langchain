{
 "cells": [
  {
   "cell_type": "code",
   "execution_count": 2,
   "id": "34f35be7",
   "metadata": {},
   "outputs": [],
   "source": [
    "from langchain.tools import tool"
   ]
  },
  {
   "cell_type": "code",
   "execution_count": 3,
   "id": "d0d477a2",
   "metadata": {},
   "outputs": [],
   "source": [
    "@tool\n",
    "def multiply(a:int,b:int)->int:\n",
    "    \"\"\"Multiply two numbers\"\"\"\n",
    "    return a*b"
   ]
  },
  {
   "cell_type": "code",
   "execution_count": 21,
   "id": "6778b204",
   "metadata": {},
   "outputs": [],
   "source": [
    "from langchain_groq import ChatGroq\n",
    "from langchain_core.messages import HumanMessage,AIMessage,ToolMessage"
   ]
  },
  {
   "cell_type": "code",
   "execution_count": 9,
   "id": "c015ebc9",
   "metadata": {},
   "outputs": [],
   "source": [
    "from dotenv import load_dotenv\n",
    "load_dotenv()\n",
    "import os\n",
    "api_key = os.getenv(\"GROQ_API_KEY\")\n",
    "model = ChatGroq(model=\"llama-3.1-8b-instant\", api_key=api_key)"
   ]
  },
  {
   "cell_type": "code",
   "execution_count": 10,
   "id": "3ad3499a",
   "metadata": {},
   "outputs": [],
   "source": [
    "llm = model.bind_tools([multiply])"
   ]
  },
  {
   "cell_type": "code",
   "execution_count": 11,
   "id": "0116d037",
   "metadata": {},
   "outputs": [
    {
     "name": "stdout",
     "output_type": "stream",
     "text": [
      "content=\"I'm functioning properly, thank you for asking.\" additional_kwargs={} response_metadata={'token_usage': {'completion_tokens': 11, 'prompt_tokens': 216, 'total_tokens': 227, 'completion_time': 0.015608499, 'prompt_time': 0.007340692, 'queue_time': 0.048639088, 'total_time': 0.022949191}, 'model_name': 'llama-3.1-8b-instant', 'system_fingerprint': 'fp_f7bd09b454', 'finish_reason': 'stop', 'logprobs': None} id='run-a41aaf16-94dc-45fe-bf3a-2e1efcf65b97-0' usage_metadata={'input_tokens': 216, 'output_tokens': 11, 'total_tokens': 227}\n"
     ]
    }
   ],
   "source": [
    "print(llm.invoke(\"Hi How are you\"))"
   ]
  },
  {
   "cell_type": "code",
   "execution_count": 22,
   "id": "d2e41f9f",
   "metadata": {},
   "outputs": [
    {
     "data": {
      "text/plain": [
       "[HumanMessage(content='Can you multiply 3 with 30 ?', additional_kwargs={}, response_metadata={})]"
      ]
     },
     "execution_count": 22,
     "metadata": {},
     "output_type": "execute_result"
    }
   ],
   "source": [
    "query = \"Can you multiply 3 with 30 ?\"\n",
    "message = []\n",
    "message.append(HumanMessage(content=query))\n",
    "message"
   ]
  },
  {
   "cell_type": "code",
   "execution_count": 13,
   "id": "2b10e92d",
   "metadata": {},
   "outputs": [],
   "source": [
    "result = llm.invoke(\"Can you multiply 3 with 30 ?\")"
   ]
  },
  {
   "cell_type": "code",
   "execution_count": 25,
   "id": "98505c44",
   "metadata": {},
   "outputs": [
    {
     "data": {
      "text/plain": [
       "[HumanMessage(content='Can you multiply 3 with 30 ?', additional_kwargs={}, response_metadata={}),\n",
       " AIMessage(content='', additional_kwargs={'tool_calls': [{'id': 'call_xnrh', 'function': {'arguments': '{\"a\":3,\"b\":30}', 'name': 'multiply'}, 'type': 'function'}]}, response_metadata={'token_usage': {'completion_tokens': 19, 'prompt_tokens': 221, 'total_tokens': 240, 'completion_time': 0.027360607, 'prompt_time': 0.0076122, 'queue_time': 0.04975843, 'total_time': 0.034972807}, 'model_name': 'llama-3.1-8b-instant', 'system_fingerprint': 'fp_a4265e44d5', 'finish_reason': 'tool_calls', 'logprobs': None}, id='run-6db4901a-5805-4624-a8d8-a6f1355ce3ef-0', tool_calls=[{'name': 'multiply', 'args': {'a': 3, 'b': 30}, 'id': 'call_xnrh', 'type': 'tool_call'}], usage_metadata={'input_tokens': 221, 'output_tokens': 19, 'total_tokens': 240})]"
      ]
     },
     "execution_count": 25,
     "metadata": {},
     "output_type": "execute_result"
    }
   ],
   "source": [
    "message.append(result)\n",
    "message"
   ]
  },
  {
   "cell_type": "code",
   "execution_count": 19,
   "id": "b82c5644",
   "metadata": {},
   "outputs": [
    {
     "data": {
      "text/plain": [
       "{'a': 3, 'b': 30}"
      ]
     },
     "execution_count": 19,
     "metadata": {},
     "output_type": "execute_result"
    }
   ],
   "source": [
    "l = result.tool_calls[0]['args']\n",
    "m = result.tool_calls[0]\n",
    "l"
   ]
  },
  {
   "cell_type": "code",
   "execution_count": 18,
   "id": "6cb126ec",
   "metadata": {},
   "outputs": [
    {
     "data": {
      "text/plain": [
       "90"
      ]
     },
     "execution_count": 18,
     "metadata": {},
     "output_type": "execute_result"
    }
   ],
   "source": [
    "multiply.invoke(l)"
   ]
  },
  {
   "cell_type": "code",
   "execution_count": 26,
   "id": "3f7b84ca",
   "metadata": {},
   "outputs": [
    {
     "data": {
      "text/plain": [
       "[HumanMessage(content='Can you multiply 3 with 30 ?', additional_kwargs={}, response_metadata={}),\n",
       " AIMessage(content='', additional_kwargs={'tool_calls': [{'id': 'call_xnrh', 'function': {'arguments': '{\"a\":3,\"b\":30}', 'name': 'multiply'}, 'type': 'function'}]}, response_metadata={'token_usage': {'completion_tokens': 19, 'prompt_tokens': 221, 'total_tokens': 240, 'completion_time': 0.027360607, 'prompt_time': 0.0076122, 'queue_time': 0.04975843, 'total_time': 0.034972807}, 'model_name': 'llama-3.1-8b-instant', 'system_fingerprint': 'fp_a4265e44d5', 'finish_reason': 'tool_calls', 'logprobs': None}, id='run-6db4901a-5805-4624-a8d8-a6f1355ce3ef-0', tool_calls=[{'name': 'multiply', 'args': {'a': 3, 'b': 30}, 'id': 'call_xnrh', 'type': 'tool_call'}], usage_metadata={'input_tokens': 221, 'output_tokens': 19, 'total_tokens': 240}),\n",
       " ToolMessage(content='90', name='multiply', tool_call_id='call_xnrh')]"
      ]
     },
     "execution_count": 26,
     "metadata": {},
     "output_type": "execute_result"
    }
   ],
   "source": [
    "message.append(multiply.invoke(m))\n",
    "message"
   ]
  },
  {
   "cell_type": "code",
   "execution_count": 31,
   "id": "e86ef800",
   "metadata": {},
   "outputs": [
    {
     "data": {
      "text/plain": [
       "'The result of multiplying 3 with 30 is 90.'"
      ]
     },
     "execution_count": 31,
     "metadata": {},
     "output_type": "execute_result"
    }
   ],
   "source": [
    "result = llm.invoke(message)\n",
    "result.content"
   ]
  },
  {
   "cell_type": "code",
   "execution_count": null,
   "id": "aa6189d0",
   "metadata": {},
   "outputs": [],
   "source": []
  },
  {
   "cell_type": "code",
   "execution_count": null,
   "id": "d8b8e446",
   "metadata": {},
   "outputs": [],
   "source": []
  }
 ],
 "metadata": {
  "kernelspec": {
   "display_name": "base",
   "language": "python",
   "name": "python3"
  },
  "language_info": {
   "codemirror_mode": {
    "name": "ipython",
    "version": 3
   },
   "file_extension": ".py",
   "mimetype": "text/x-python",
   "name": "python",
   "nbconvert_exporter": "python",
   "pygments_lexer": "ipython3",
   "version": "3.12.7"
  }
 },
 "nbformat": 4,
 "nbformat_minor": 5
}
